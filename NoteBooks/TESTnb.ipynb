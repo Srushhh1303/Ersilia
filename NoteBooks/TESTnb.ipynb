{
 "cells": [
  {
   "cell_type": "markdown",
   "id": "5889a2e5",
   "metadata": {},
   "source": [
    "# Data processing\n",
    "\n",
    "In this notebook, I am loading a list of molecules I obtained from ChEMBL and processing them to make sure I have:\n",
    "\n",
    "- Standard SMILES representation of the compound\n",
    "- InChIKey associated to the compound"
   ]
  },
  {
   "cell_type": "code",
   "execution_count": null,
   "id": "6a129c1a",
   "metadata": {},
   "outputs": [],
   "source": [
    "\n",
    "repo_path = '/Users/srushtihirve/Desktop/Ersilia' #enter your repo path here\n",
    "import rdkit\n",
    "import pathlib\n",
    "import chemprop\n",
    "import numpy as np\n",
    "import pandas as pd\n",
    "from rdkit import Chem\n",
    "import sys \n",
    "import ersilia\n",
    "from pathlib import Path\n",
    "import matplotlib.pyplot as plt\n",
    "import seaborn as sns\n"
   ]
  },
  {
   "cell_type": "code",
   "execution_count": 16,
   "id": "7f216bf4",
   "metadata": {
    "scrolled": false
   },
   "outputs": [
    {
     "name": "stdout",
     "output_type": "stream",
     "text": [
      "                                              Smiles   IC50   In vitro result  \\\n",
      "0                      CCOC(=O)C1(CCN(C)CC1)c1ccccc1     75  hERG non-blocker   \n",
      "1                      CCN(CC)CC(=O)NC1=C(C)C=CC=C1C  262.2  hERG non-blocker   \n",
      "2                                    CCCC(CCC)C(=O)O     20  hERG non-blocker   \n",
      "3    CCC(COC(=O)c1cc(OC)c(OC)c(OC)c1)(c1ccccc1)N(C)C     90  hERG non-blocker   \n",
      "4  COc1ccc(N(C(C)=O)c2cc3c(cc2[N+](=O)[O-])OC(C)(...     44  hERG non-blocker   \n",
      "\n",
      "            DeepHIT          CardPred OCHEM Predictor \\n(Consensus I)  \\\n",
      "0  hERG non-blocker  hERG non-blocker                hERG non-blocker   \n",
      "1  hERG non-blocker  hERG non-blocker                hERG non-blocker   \n",
      "2  hERG non-blocker  hERG non-blocker                hERG non-blocker   \n",
      "3  hERG non-blocker  hERG non-blocker                    hERG blocker   \n",
      "4  hERG non-blocker  hERG non-blocker                hERG non-blocker   \n",
      "\n",
      "  OCHEM Predictor\\n(Consensus II)     Pred-hERG 4.2  \n",
      "0                hERG non-blocker  hERG non-blocker  \n",
      "1                hERG non-blocker      hERG blocker  \n",
      "2                hERG non-blocker  hERG non-blocker  \n",
      "3                hERG non-blocker      hERG blocker  \n",
      "4                hERG non-blocker  hERG non-blocker  \n"
     ]
    }
   ],
   "source": [
    "reference_library_path = os.path.join(repo_path,'data/Input.csv')\n",
    "reference_library = pd.read_csv(reference_library_path,skiprows=3)\n",
    "print(reference_library.head())"
   ]
  },
  {
   "cell_type": "code",
   "execution_count": 17,
   "id": "e328e949",
   "metadata": {
    "scrolled": false
   },
   "outputs": [],
   "source": [
    "from src.smiles_processing import standardise_smiles\n",
    "smiles_list = reference_library['Smiles'].tolist()\n",
    "standardised_smiles_list = standardise_smiles(smiles_list)\n",
    "reference_library['Standardised_smiles'] = standardised_smiles_list"
   ]
  },
  {
   "cell_type": "code",
   "execution_count": 19,
   "id": "08f9c7ec",
   "metadata": {
    "scrolled": true
   },
   "outputs": [
    {
     "name": "stdout",
     "output_type": "stream",
     "text": [
      "                                              Smiles   IC50   In vitro result  \\\n",
      "0                      CCOC(=O)C1(CCN(C)CC1)c1ccccc1     75  hERG non-blocker   \n",
      "1                      CCN(CC)CC(=O)NC1=C(C)C=CC=C1C  262.2  hERG non-blocker   \n",
      "2                                    CCCC(CCC)C(=O)O     20  hERG non-blocker   \n",
      "3    CCC(COC(=O)c1cc(OC)c(OC)c(OC)c1)(c1ccccc1)N(C)C     90  hERG non-blocker   \n",
      "4  COc1ccc(N(C(C)=O)c2cc3c(cc2[N+](=O)[O-])OC(C)(...     44  hERG non-blocker   \n",
      "\n",
      "            DeepHIT          CardPred OCHEM Predictor \\n(Consensus I)  \\\n",
      "0  hERG non-blocker  hERG non-blocker                hERG non-blocker   \n",
      "1  hERG non-blocker  hERG non-blocker                hERG non-blocker   \n",
      "2  hERG non-blocker  hERG non-blocker                hERG non-blocker   \n",
      "3  hERG non-blocker  hERG non-blocker                    hERG blocker   \n",
      "4  hERG non-blocker  hERG non-blocker                hERG non-blocker   \n",
      "\n",
      "  OCHEM Predictor\\n(Consensus II)     Pred-hERG 4.2  \\\n",
      "0                hERG non-blocker  hERG non-blocker   \n",
      "1                hERG non-blocker      hERG blocker   \n",
      "2                hERG non-blocker  hERG non-blocker   \n",
      "3                hERG non-blocker      hERG blocker   \n",
      "4                hERG non-blocker  hERG non-blocker   \n",
      "\n",
      "                                 Standardised_smiles  \\\n",
      "0                      CCOC(=O)C1(c2ccccc2)CCN(C)CC1   \n",
      "1                         CCN(CC)CC(=O)Nc1c(C)cccc1C   \n",
      "2                                    CCCC(CCC)C(=O)O   \n",
      "3    CCC(COC(=O)c1cc(OC)c(OC)c(OC)c1)(c1ccccc1)N(C)C   \n",
      "4  COc1ccc(N(C(C)=O)c2cc3c(cc2[N+](=O)[O-])OC(C)(...   \n",
      "\n",
      "                      Inchikey  \n",
      "0  XADCESSVHJOZHK-UHFFFAOYSA-N  \n",
      "1  NNJVILVZKWQKPM-UHFFFAOYSA-N  \n",
      "2  NIJJYAXOARWZEE-UHFFFAOYSA-N  \n",
      "3  LORDFXWUHHSAQU-UHFFFAOYSA-N  \n",
      "4  XZEITPHZKJCCSQ-UHFFFAOYSA-N  \n"
     ]
    }
   ],
   "source": [
    "# use to create inchikeys\n",
    "from src.convert_smiles import smiles_to_inchikey\n",
    "\n",
    "reference_library['Inchikey'] = reference_library['Smiles'].apply(smiles_to_inchikey)\n",
    "print(reference_library.head())"
   ]
  },
  {
   "cell_type": "code",
   "execution_count": null,
   "id": "91705005",
   "metadata": {},
   "outputs": [],
   "source": []
  },
  {
   "cell_type": "code",
   "execution_count": 21,
   "id": "18898522",
   "metadata": {
    "scrolled": false
   },
   "outputs": [
    {
     "name": "stdout",
     "output_type": "stream",
     "text": [
      "    IC50   In vitro result           DeepHIT          CardPred  \\\n",
      "0     75  hERG non-blocker  hERG non-blocker  hERG non-blocker   \n",
      "1  262.2  hERG non-blocker  hERG non-blocker  hERG non-blocker   \n",
      "2     20  hERG non-blocker  hERG non-blocker  hERG non-blocker   \n",
      "3     90  hERG non-blocker  hERG non-blocker  hERG non-blocker   \n",
      "4     44  hERG non-blocker  hERG non-blocker  hERG non-blocker   \n",
      "\n",
      "  OCHEM Predictor \\n(Consensus I) OCHEM Predictor\\n(Consensus II)  \\\n",
      "0                hERG non-blocker                hERG non-blocker   \n",
      "1                hERG non-blocker                hERG non-blocker   \n",
      "2                hERG non-blocker                hERG non-blocker   \n",
      "3                    hERG blocker                hERG non-blocker   \n",
      "4                hERG non-blocker                hERG non-blocker   \n",
      "\n",
      "      Pred-hERG 4.2                                Standardised_smiles  \\\n",
      "0  hERG non-blocker                      CCOC(=O)C1(c2ccccc2)CCN(C)CC1   \n",
      "1      hERG blocker                         CCN(CC)CC(=O)Nc1c(C)cccc1C   \n",
      "2  hERG non-blocker                                    CCCC(CCC)C(=O)O   \n",
      "3      hERG blocker    CCC(COC(=O)c1cc(OC)c(OC)c(OC)c1)(c1ccccc1)N(C)C   \n",
      "4  hERG non-blocker  COc1ccc(N(C(C)=O)c2cc3c(cc2[N+](=O)[O-])OC(C)(...   \n",
      "\n",
      "                      Inchikey  \n",
      "0  XADCESSVHJOZHK-UHFFFAOYSA-N  \n",
      "1  NNJVILVZKWQKPM-UHFFFAOYSA-N  \n",
      "2  NIJJYAXOARWZEE-UHFFFAOYSA-N  \n",
      "3  LORDFXWUHHSAQU-UHFFFAOYSA-N  \n",
      "4  XZEITPHZKJCCSQ-UHFFFAOYSA-N  \n"
     ]
    }
   ],
   "source": [
    "#drop smiles\n",
    "reference_library.drop(columns=['Smiles'],inplace=True)\n",
    "print(reference_library.head())"
   ]
  },
  {
   "cell_type": "code",
   "execution_count": 31,
   "id": "dd7688cb",
   "metadata": {},
   "outputs": [
    {
     "name": "stdout",
     "output_type": "stream",
     "text": [
      "Index(['Standardised_smiles', 'Inchikey'], dtype='object')\n",
      "                                 Standardised_smiles  \\\n",
      "0                      CCOC(=O)C1(c2ccccc2)CCN(C)CC1   \n",
      "1                         CCN(CC)CC(=O)Nc1c(C)cccc1C   \n",
      "2                                    CCCC(CCC)C(=O)O   \n",
      "3    CCC(COC(=O)c1cc(OC)c(OC)c(OC)c1)(c1ccccc1)N(C)C   \n",
      "4  COc1ccc(N(C(C)=O)c2cc3c(cc2[N+](=O)[O-])OC(C)(...   \n",
      "\n",
      "                      Inchikey  \n",
      "0  XADCESSVHJOZHK-UHFFFAOYSA-N  \n",
      "1  NNJVILVZKWQKPM-UHFFFAOYSA-N  \n",
      "2  NIJJYAXOARWZEE-UHFFFAOYSA-N  \n",
      "3  LORDFXWUHHSAQU-UHFFFAOYSA-N  \n",
      "4  XZEITPHZKJCCSQ-UHFFFAOYSA-N  \n"
     ]
    }
   ],
   "source": [
    "print(reference_library.columns)\n",
    "print(reference_library.head())"
   ]
  },
  {
   "cell_type": "code",
   "execution_count": 33,
   "id": "3f3589f2",
   "metadata": {},
   "outputs": [],
   "source": [
    "# In this codeblock I will save the data as a .csv file containing only the standard smiles and the inchikey as columns. \n",
    "# All data will be saved with informative names in the /data folder\n",
    "\n",
    "file_path = repo_path +'/data/data_processed.csv'\n",
    "reference_library.to_csv(file_path,index=False)"
   ]
  },
  {
   "cell_type": "markdown",
   "id": "a39eea85",
   "metadata": {},
   "source": [
    "# Model Bias Evaluation\n",
    "\n",
    "Now, I will use the predictions I got from the Ersilia Model Hub on the dataset of 40 molecules curated above and see how are they distributed in their space (which might be 0 to 1 for probabilities, or different for regression models)"
   ]
  },
  {
   "cell_type": "code",
   "execution_count": 79,
   "id": "11466dbf",
   "metadata": {},
   "outputs": [
    {
     "name": "stdout",
     "output_type": "stream",
     "text": [
      "                           key  \\\n",
      "0  XADCESSVHJOZHK-UHFFFAOYSA-N   \n",
      "1  NNJVILVZKWQKPM-UHFFFAOYSA-N   \n",
      "2  NIJJYAXOARWZEE-UHFFFAOYSA-N   \n",
      "3  LORDFXWUHHSAQU-UHFFFAOYSA-N   \n",
      "4  XZEITPHZKJCCSQ-UHFFFAOYSA-N   \n",
      "\n",
      "                                               input     score      alea  \\\n",
      "0                      CCOC(=O)C1(c2ccccc2)CCN(C)CC1  0.712741  0.179668   \n",
      "1                         CCN(CC)CC(=O)Nc1c(C)cccc1C  0.717256  0.180662   \n",
      "2                                    CCCC(CCC)C(=O)O  0.705629  0.181064   \n",
      "3    CCC(COC(=O)c1cc(OC)c(OC)c(OC)c1)(c1ccccc1)N(C)C  0.696687  0.182606   \n",
      "4  COc1ccc(N(C(C)=O)c2cc3c(cc2[N+](=O)[O-])OC(C)(...  0.702741  0.179000   \n",
      "\n",
      "       epis  \n",
      "0  0.025074  \n",
      "1  0.022137  \n",
      "2  0.026652  \n",
      "3  0.028709  \n",
      "4  0.029897  \n"
     ]
    }
   ],
   "source": [
    "eos4tcc_output_path = os.path.join(repo_path,'data/output.csv')\n",
    "eos4tcc_output = pd.read_csv(eos4tcc_output_path)\n",
    "print(eos4tcc_output.head())"
   ]
  },
  {
   "cell_type": "code",
   "execution_count": 80,
   "id": "d2d52329",
   "metadata": {},
   "outputs": [
    {
     "name": "stdout",
     "output_type": "stream",
     "text": [
      "Index(['key', 'input', 'score', 'alea', 'epis'], dtype='object')\n"
     ]
    }
   ],
   "source": [
    "print(eos4tcc_output.columns)"
   ]
  },
  {
   "cell_type": "code",
   "execution_count": 81,
   "id": "dcf86a46",
   "metadata": {},
   "outputs": [
    {
     "name": "stdout",
     "output_type": "stream",
     "text": [
      "                            key  \\\n",
      "0   XADCESSVHJOZHK-UHFFFAOYSA-N   \n",
      "1   NNJVILVZKWQKPM-UHFFFAOYSA-N   \n",
      "2   NIJJYAXOARWZEE-UHFFFAOYSA-N   \n",
      "3   LORDFXWUHHSAQU-UHFFFAOYSA-N   \n",
      "4   XZEITPHZKJCCSQ-UHFFFAOYSA-N   \n",
      "5   IENZQIKPVFGBNW-UHFFFAOYSA-N   \n",
      "6   YBHILYKTIRIUTE-UHFFFAOYSA-N   \n",
      "7   BNRNXUUZRGQAQC-UHFFFAOYSA-N   \n",
      "8   BNRNXUUZRGQAQC-UHFFFAOYSA-N   \n",
      "9   UTCPYQMSANLUTE-UHFFFAOYSA-N   \n",
      "10  ZVNYJIZDIRKMBF-UHFFFAOYSA-N   \n",
      "11  UXXZYDHTCUOVTH-UHFFFAOYSA-N   \n",
      "12  HTIQEAQVCYTUBX-UHFFFAOYSA-N   \n",
      "13  DILLBCAFAMFQHI-UHFFFAOYSA-N   \n",
      "14  UVTNFZQICZKOEM-UHFFFAOYSA-N   \n",
      "15  LTRSQBSUNYICJX-SFHVURJKSA-N   \n",
      "16  FMGOXRYKYRAOGN-UHFFFAOYSA-N   \n",
      "17  JHNACYHGMDXEMK-UHFFFAOYSA-N   \n",
      "18  APJOCAPTSRIKGO-STZFKDTASA-N   \n",
      "19  WTZRZLGEZIFRDO-UHFFFAOYSA-N   \n",
      "20  CHQOEHPMXSHGCL-UHFFFAOYSA-N   \n",
      "21  OCRUGJLMFZVFHV-UHFFFAOYSA-N   \n",
      "22  OGHNVEJMJSYVRP-QGZVFWFLSA-N   \n",
      "23  VQDUUNLXNKNTSM-UHFFFAOYSA-N   \n",
      "24  IPOBOOXFSRWSHL-INIZCTEOSA-N   \n",
      "25  UNAANXDKBXWMLN-UHFFFAOYSA-N   \n",
      "26  CJOFXWAVKWHTFT-XSFVSMFZSA-N   \n",
      "27  URKOMYMAXPYINW-UHFFFAOYSA-N   \n",
      "28  YECBIJXISLIIDS-UHFFFAOYSA-N   \n",
      "29  PNRIEBLYDWPIDU-YDZHTSKRSA-N   \n",
      "30  HIKMNTKMXMEJDB-UHFFFAOYSA-N   \n",
      "31  CVNCKFCEWFWLPQ-UHFFFAOYSA-N   \n",
      "32  SCMHOQQKHHUZOM-UHFFFAOYSA-N   \n",
      "33  RLNMBDPMRDSIFQ-UHFFFAOYSA-N   \n",
      "34  OIDBKVMEVCCZHO-UHFFFAOYSA-N   \n",
      "35  YQOKDKXYGHIVEJ-UHFFFAOYSA-N   \n",
      "36  HMMQYWRYNZBDAE-UHFFFAOYSA-N   \n",
      "37  WPSYTTKBGAZSCX-UHFFFAOYSA-N   \n",
      "38  UUMQGMCYAJYYQR-UHFFFAOYSA-N   \n",
      "39  PJWPNDMDCLXCOM-UHFFFAOYSA-N   \n",
      "40  YPELFRMCRYSPKZ-UHFFFAOYSA-N   \n",
      "41  WJRHWKLKYSTKDD-UHFFFAOYSA-N   \n",
      "42  HJIFNRLOZKIKIM-UHFFFAOYSA-N   \n",
      "43  QPDDLDVIOXVJFH-UHFFFAOYSA-N   \n",
      "\n",
      "                                                input     score      alea  \\\n",
      "0                       CCOC(=O)C1(c2ccccc2)CCN(C)CC1  0.712741  0.179668   \n",
      "1                          CCN(CC)CC(=O)Nc1c(C)cccc1C  0.717256  0.180662   \n",
      "2                                     CCCC(CCC)C(=O)O  0.705629  0.181064   \n",
      "3     CCC(COC(=O)c1cc(OC)c(OC)c(OC)c1)(c1ccccc1)N(C)C  0.696687  0.182606   \n",
      "4   COc1ccc(N(C(C)=O)c2cc3c(cc2[N+](=O)[O-])OC(C)(...  0.702741  0.179000   \n",
      "5       COc1cc2nc(N3CCN(C(=O)c4ccco4)CC3)nc(N)c2cc1OC  0.701530  0.177535   \n",
      "6         COc1ccc2cc3[n+](cc2c1OC)CCc1cc2c(cc1-3)OCO2  0.712624  0.176438   \n",
      "7   CCCc1nn(C)c2c(=O)[nH]c(-c3cc(S(=O)(=O)N4CCN(C)...  0.702866  0.179828   \n",
      "8   CCCc1nn(C)c2c(=O)[nH]c(-c3cc(S(=O)(=O)N4CCN(C)...  0.702866  0.179828   \n",
      "9   CC(=O)SC1CC2=CC(=O)CCC2(C)C2CCC3C(CCC34CCC(=O)...  0.705538  0.180354   \n",
      "10  COc1ccc(C(=O)N2CCN(c3ccc4c(c3)CCC(=O)N4)CC2)cc1OC  0.705498  0.183955   \n",
      "11         CCS(=O)(=O)NC1c2cc(C#N)ccc2C(=O)C(C)(C)C1O  0.705488  0.181606   \n",
      "12    CCOC(=O)C1=C(COCCN)NC(C)=C(C(=O)OC)C1c1ccccc1Cl  0.694958  0.187249   \n",
      "13  CN1CC(=O)C2C(Cc3c([nH]c4ccccc34)C2c2cccc3c2OCO...  0.707445  0.182909   \n",
      "14         CC(C)N(CCC(C(N)=O)(c1ccccc1)c1ccccn1)C(C)C  0.697049  0.186508   \n",
      "15         CN1CCN([C@@H]2c3ccccc3Nc3ccc(Cl)cc3N2O)CC1  0.702981  0.186728   \n",
      "16                           CCCCCCCCCC[N+](CC)(CC)CC  0.714577  0.180544   \n",
      "17                             CCCCCCCC[N+](CC)(CC)CC  0.701459  0.183685   \n",
      "18  C/C(=C(/F)C(=O)Nc1ccc(-c2ccc(S(N)(=O)=O)cc2)cc...  0.714300  0.182176   \n",
      "19        COc1ccccc1OCCNCC(O)COc1cccc2c1C1C=CC=CC1=N2  0.728011  0.176137   \n",
      "20         O=C1N(Cc2ccccc2)C2C[S+]3CCCC3C2N1Cc1ccccc1  0.732244  0.165837   \n",
      "21                CC(C)(C)c1cn(-c2ccc(F)cc2)c2ccccc12  0.700815  0.184495   \n",
      "22   COc1ccccc1OCCNC[C@@H](O)COc1cccc2[nH]c3ccccc3c12  0.719518  0.165749   \n",
      "23                         CNCCCC1c2ccccc2CCc2ccccc21  0.700152  0.184323   \n",
      "24              c1ccc(C2(c3ccccc3)C[C@H]2C2=NCCN2)cc1  0.707950  0.181638   \n",
      "25                 CC(C)CC(N(C)C)C1(c2ccc(Cl)cc2)CCC1  0.682916  0.188021   \n",
      "26                COCCCC/C(=N\\OCCN)c1ccc(C(F)(F)F)cc1  0.705700  0.178549   \n",
      "27             OCCOCCN1CCN(C2=Nc3ccccc3Sc3ccccc32)CC1  0.715685  0.177095   \n",
      "28                    COc1ccc(CN(CCN(C)C)c2ccccn2)cc1  0.711030  0.180160   \n",
      "29  CC(C)(C)N(CC(O)c1cc(Cl)cc2c1-c1ccc(Cl)cc1/C2=C...  0.701779  0.182635   \n",
      "30  CN(C)CCCn1cc(C2C(=O)NC(=O)C2c2c[nH]c3ccccc23)c...  0.709905  0.179561   \n",
      "31  Cc1ccc(CCN(C)CCCN(C(=O)c2ccc([N+](=O)[O-])cc2)...  0.725866  0.175246   \n",
      "32     CC(C)(C)c1ccc(C(=O)CCCN2CCC(OCc3ccccc3)CC2)cc1  0.913878  0.076507   \n",
      "33  COCC(=O)OC1(CCN(C)CCCC2=NC3C=CC=CC3=N2)CCc2cc(...  0.913879  0.076430   \n",
      "34  CCN(CC)c1ccc(NC(=O)C2CCc3cccc(OC)c3C2N(C)C(=O)...  0.919110  0.071567   \n",
      "35  O=C(Cc1ccc(F)cc1)NC1CCN(CCC(NC(=O)C2CCC2)c2ccc...  0.903810  0.083217   \n",
      "36  O=C1Nc2ccccc2C1CCCN1CCC(n2c(=O)[nH]c3cc(Cl)ccc...  0.909987  0.078936   \n",
      "37                CCCCCCC[N+](CC)(CC)CCCCc1ccc(Cl)cc1  0.916647  0.072646   \n",
      "38          COc1ccc(CCN(C)CCCNc2c(Cl)cn[nH]c2=O)cc1OC  0.915373  0.074806   \n",
      "39              COc1ccc(C(=O)Nc2ccccc2CCC2CCCCN2C)cc1  0.912543  0.076449   \n",
      "40    CCOc1cc(N)c(Cl)cc1C(=O)NCC1CN(Cc2ccc(F)cc2)CCO1  0.914313  0.076005   \n",
      "41  O=C(NC(CCN1CCC(c2noc(Cc3ccccc3)n2)CC1)c1ccccc1...  0.907075  0.080170   \n",
      "42  O=C(NC(CCN1CCC(n2cnc(Cc3ccccc3)n2)CC1)c1ccccc1...  0.919886  0.070729   \n",
      "43                 CCN(CC)CCCN(c1ccccc1)C1CCc2ccccc21  0.991918  0.007962   \n",
      "\n",
      "        epis  \n",
      "0   0.025074  \n",
      "1   0.022137  \n",
      "2   0.026652  \n",
      "3   0.028709  \n",
      "4   0.029897  \n",
      "5   0.031850  \n",
      "6   0.028353  \n",
      "7   0.029018  \n",
      "8   0.029018  \n",
      "9   0.027400  \n",
      "10  0.023816  \n",
      "11  0.026169  \n",
      "12  0.024742  \n",
      "13  0.024058  \n",
      "14  0.024663  \n",
      "15  0.022070  \n",
      "16  0.023413  \n",
      "17  0.025729  \n",
      "18  0.021899  \n",
      "19  0.021873  \n",
      "20  0.030226  \n",
      "21  0.025178  \n",
      "22  0.036063  \n",
      "23  0.025616  \n",
      "24  0.025119  \n",
      "25  0.028521  \n",
      "26  0.029138  \n",
      "27  0.026385  \n",
      "28  0.025306  \n",
      "29  0.026650  \n",
      "30  0.026379  \n",
      "31  0.023739  \n",
      "32  0.002198  \n",
      "33  0.002274  \n",
      "34  0.002780  \n",
      "35  0.003720  \n",
      "36  0.002974  \n",
      "37  0.003759  \n",
      "38  0.002659  \n",
      "39  0.003359  \n",
      "40  0.002340  \n",
      "41  0.004120  \n",
      "42  0.002967  \n",
      "43  0.000055  \n"
     ]
    }
   ],
   "source": [
    "\n",
    "# Write the cleaned DataFrame back to a CSV file\n",
    "df.to_csv('cleaned_data.csv', index=False)\n",
    "print(eos4tcc_output)"
   ]
  },
  {
   "cell_type": "markdown",
   "id": "26265588",
   "metadata": {},
   "source": [
    "# Model Interpretation\n",
    "Understanding the Model 🧠\n",
    "\n",
    "The model operates on a dataset of 1000 SMILES representations sourced from \"1000_values_dataset.csv\". It outputs three key metrics:\n",
    "\n",
    "- Score: This metric represents the percentage of hERG channel inhibition at a concentration of 10µm. Leveraging BayeshERG, a state-of-the-art graph neural network (GNN)-based Bayesian DL model, the score is computed using a softmax function. Molecules with a score ≥ 0.5 are classified as hERG blockers, while those with a score < 0.5 are categorized as non-hERG blockers.\n",
    "\n",
    "- Alea: Referring to \"aleatoric\" uncertainty, this metric encapsulates the model's uncertainty stemming from limited data availability.\n",
    "\n",
    "- Epis: Representing \"epistemic\" uncertainty, this metric encapsulates the model's uncertainty arising from the intrinsic randomness of the data, potentially influenced by noise present within the dataset.\n",
    "\n",
    "Commentary on Uncertainty: The variance, or uncertainty, encompasses the combined epistemic and aleatoric uncertainty, providing a holistic view of the model's predictive reliability and confidence level.\n",
    "\n",
    "By delving into these metrics, we gain insights into the model's predictive capabilities and its ability to discern between hERG blockers and non-blockers, while also understanding the level of uncertainty associated with its predictions."
   ]
  },
  {
   "cell_type": "code",
   "execution_count": 84,
   "id": "46a240be",
   "metadata": {
    "scrolled": true
   },
   "outputs": [
    {
     "data": {
      "image/png": "[encoded data removed]",
      "text/plain": [
       "<Figure size 640x480 with 1 Axes>"
      ]
     },
     "metadata": {},
     "output_type": "display_data"
    }
   ],
   "source": [
    "# In this codeblock I will create the necessary plots with MatPlotLib to observe the distribution of predicted values\n",
    "\n",
    "# Plot between the hERG blocking activity of molecules and their frequency\n",
    "b = np.arange(0.0, 1.1, 0.1)\n",
    "score=eos4tcc_output['score'].to_list()\n",
    "weights = np.ones_like(score) / float(len(score))\n",
    "plt.hist(score, bins=b, edgecolor='black',weights=weights,color='blue')\n",
    "max_probability_bin = plt.gca().patches[max(range(len(plt.gca().patches)), key=lambda i: plt.gca().patches[i].get_height())]\n",
    "max_probability_bin.set_facecolor('red')\n",
    "plt.title('eos4tcc model hERG blocking score vs frequnecy')\n",
    "plt.xlabel('Score')\n",
    "ticks=np.arange(0.0,1.1,0.1)\n",
    "plt.xticks(ticks)\n",
    "plt.ylabel('Probability')\n",
    "plt.savefig(\"/Users/srushtihirve/Desktop/Ersilia/data\")\n",
    "plt.show()\n",
    "\n"
   ]
  },
  {
   "cell_type": "markdown",
   "id": "5c3bcf59",
   "metadata": {},
   "source": [
    "Inference from the histogram\n",
    "- Most of the molecules (about 60%) have hERG blocking activity score in the range \n",
    "- Molecules with very strong hERG blocking activity i.e. hERG blocking activity score > 0.95 are just approximately 0.5%."
   ]
  },
  {
   "cell_type": "markdown",
   "id": "9c90dc57",
   "metadata": {},
   "source": [
    "Aleatoric uncertainty arises from inherent randomness in the data itself, such as noise in the observations. Epistemic uncertainty, on the other hand, arises from uncertainty in the model parameters due to limited training data.\n",
    "\n"
   ]
  },
  {
   "cell_type": "code",
   "execution_count": 86,
   "id": "692e7b87",
   "metadata": {},
   "outputs": [
    {
     "data": {
      "image/png": "[encoded data removed]",
      "text/plain": [
       "<Figure size 800x600 with 1 Axes>"
      ]
     },
     "metadata": {},
     "output_type": "display_data"
    }
   ],
   "source": [
    "# showing the percentage of each interval of hERG blocking activity\n",
    "\n",
    "ranges = [(0, 0.1), (0.1, 0.2), (0.2,0.3), (0.3,0.4), (0.4,0.5), (0.5,0.6), (0.6,0.7), (0.7,0.8), (0.8,0.9), (0.9,1.0)]\n",
    "categories = []\n",
    "for value in eos4tcc_output['score']:\n",
    "    for r in ranges:\n",
    "        if r[0] <= value < r[1]:\n",
    "            categories.append(r)\n",
    "            break\n",
    "counts = pd.Series(categories).value_counts().sort_index()\n",
    "plt.figure(figsize=(8, 6))\n",
    "plt.pie(counts, labels=[f'{r[0]}-{r[1]}' for r in counts.index], autopct='%1.1f%%', startangle=140)\n",
    "plt.title('Distribution of scores in different ranges')\n",
    "plt.axis('equal')\n",
    "plt.savefig(\"/Users/srushtihirve/Desktop/Ersilia\")\n",
    "plt.show()"
   ]
  },
  {
   "cell_type": "markdown",
   "id": "62414234",
   "metadata": {},
   "source": [
    "Inference of Pie Chart\n",
    "- It's evident that over 60% of the molecules exhibit hERG blocking activity scores ranging from 0.7 to 0.8."
   ]
  },
  {
   "cell_type": "code",
   "execution_count": 101,
   "id": "08929d7b",
   "metadata": {
    "scrolled": true
   },
   "outputs": [
    {
     "data": {
      "image/png": "[encoded data removed]",
      "text/plain": [
       "<Figure size 640x480 with 1 Axes>"
      ]
     },
     "metadata": {},
     "output_type": "display_data"
    }
   ],
   "source": [
    "# sorting the dataframe accoring to the score values to make inferences about uncertainity\n",
    "\n",
    "sorted_df=eos4tcc_output.sort_values(by='score')\n",
    "\n",
    "x = sorted_df['score'].to_list()\n",
    "y = sorted_df['epis'].to_list()\n",
    "plt.title('Epistemic uncertainity v/s hERG blocking activity score')\n",
    "plt.xlabel('hERG blocking activity score')\n",
    "plt.ylabel('Epistemic uncertainity')\n",
    "plt.scatter(x, y, color = 'red',s=2)\n",
    "plt.savefig(\"/Users/srushtihirve/Desktop/Ersilia\")\n",
    "plt.show()\n"
   ]
  },
  {
   "cell_type": "markdown",
   "id": "e53b47b6",
   "metadata": {},
   "source": [
    "Inference from dataset\n",
    "\n",
    "Higher HERG blocking activity scores are associated with lower epistemic uncertainty.\n",
    "This means that for molecules with a high blocking activity score, there is more certainty about the prediction.\n",
    "\n"
   ]
  },
  {
   "cell_type": "code",
   "execution_count": null,
   "id": "8580c046",
   "metadata": {},
   "outputs": [],
   "source": []
  }
 ],
 "metadata": {
  "kernelspec": {
   "display_name": "Python 3 (ipykernel)",
   "language": "python",
   "name": "python3"
  },
  "language_info": {
   "codemirror_mode": {
    "name": "ipython",
    "version": 3
   },
   "file_extension": ".py",
   "mimetype": "text/x-python",
   "name": "python",
   "nbconvert_exporter": "python",
   "pygments_lexer": "ipython3",
   "version": "3.9.18"
  }
 },
 "nbformat": 4,
 "nbformat_minor": 5
}
